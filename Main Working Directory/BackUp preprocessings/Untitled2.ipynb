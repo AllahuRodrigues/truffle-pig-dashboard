{
 "cells": [
  {
   "cell_type": "code",
   "execution_count": null,
   "id": "d63098cf-b781-485f-af1f-d0b9fb7f1e14",
   "metadata": {},
   "outputs": [],
   "source": []
  }
 ],
 "metadata": {
  "kernelspec": {
   "display_name": "",
   "name": ""
  },
  "language_info": {
   "name": ""
  }
 },
 "nbformat": 4,
 "nbformat_minor": 5
}
