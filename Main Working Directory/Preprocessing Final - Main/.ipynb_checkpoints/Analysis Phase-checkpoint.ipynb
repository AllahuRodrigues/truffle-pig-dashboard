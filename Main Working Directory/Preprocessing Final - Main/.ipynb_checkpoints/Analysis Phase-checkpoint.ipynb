{
 "cells": [
  {
   "cell_type": "code",
   "execution_count": 9,
   "id": "07115e07-a481-4b69-8589-7e4de5bab9bc",
   "metadata": {},
   "outputs": [
    {
     "name": "stdout",
     "output_type": "stream",
     "text": [
      "Loading cleaned data files...\n",
      "Isolating agency fees from media spend data...\n",
      "Aggregating primary spend and revenue...\n",
      "Merging agency fees to calculate true total spend...\n",
      "Calculating corrected ROAS...\n",
      "\n",
      "--- Corrected Channel Performance Summary (ROAS) ---\n",
      "   marketing_channel  true_total_ad_spend  total_revenue  corrected_roas\n",
      "0     organic search             59978.00     2794810.73       46.597264\n",
      "1              email             96624.00     3743370.64       38.741624\n",
      "2                sms             25270.00      641236.85       25.375419\n",
      "3        paid search            890970.23     4616495.91        5.181426\n",
      "4           shopping            289068.26      882064.96        3.051407\n",
      "5         affiliates            354629.41      630776.05        1.778691\n",
      "6        paid social           2713132.29     1974848.56        0.727885\n",
      "7              Other                 0.00     1975135.47        0.000000\n",
      "8             direct                 0.00     3264081.45        0.000000\n",
      "9       Unattributed                 0.00       29071.06        0.000000\n",
      "10    organic social                 0.00       63291.61        0.000000\n",
      "11           display                 0.00        1735.39        0.000000\n",
      "\n",
      "Generating corrected visualization...\n",
      "An error occurred during analysis: 'NoneType' object has no attribute 'remove'\n"
     ]
    },
    {
     "data": {
      "image/png": "[encoded data removed]",
      "text/plain": [
       "<Figure size 1200x800 with 1 Axes>"
      ]
     },
     "metadata": {},
     "output_type": "display_data"
    }
   ],
   "source": [
    "import pandas as pd\n",
    "import matplotlib.pyplot as plt\n",
    "import seaborn as sns\n",
    "\n",
    "def analyze_corrected_roas():\n",
    "    \"\"\"\n",
    "    Calculates a corrected Return on Ad Spend (ROAS) by incorporating agency fees,\n",
    "    providing a true picture of channel profitability.\n",
    "    \"\"\"\n",
    "    try:\n",
    "        # --- 1. Load Cleaned Data Files ---\n",
    "        print(\"Loading cleaned data files...\")\n",
    "        try:\n",
    "            marketing_df = pd.read_csv(\"Cleaned_Marketing Channel Breakdown.csv\")\n",
    "        except FileNotFoundError:\n",
    "            marketing_df = pd.read_csv(\"cleaned_Marketing Channel Breakdown.csv\")\n",
    "        \n",
    "        media_spend_df = pd.read_csv(\"cleaned_Media Spend by Channel.csv\")\n",
    "\n",
    "        # --- 2. Isolate Agency Fees ---\n",
    "        # Agency fees are identified by rows containing \"Agency\" in the channel_name.\n",
    "        print(\"Isolating agency fees from media spend data...\")\n",
    "        agency_fees_df = media_spend_df[media_spend_df['channel_name'].str.contains(\"Agency\", na=False)].copy()\n",
    "        \n",
    "        # Create a clean mapping key by removing \" Agency\" from the name.\n",
    "        # e.g., \"Paid Search Agency\" -> \"paid search\"\n",
    "        agency_fees_df['mapping_key'] = agency_fees_df['channel_name'].str.replace(\" Agency\", \"\", regex=False).str.lower()\n",
    "        \n",
    "        # FINAL CORRECTION: Explicitly map 'affiliate' to 'affiliates' to ensure the merge works.\n",
    "        agency_fees_df['mapping_key'] = agency_fees_df['mapping_key'].replace({'affiliate': 'affiliates'})\n",
    "        \n",
    "        # Aggregate total agency fees by the new mapping key.\n",
    "        total_agency_fees = agency_fees_df.groupby('mapping_key')['value'].sum().reset_index()\n",
    "        total_agency_fees.rename(columns={'value': 'agency_fees'}, inplace=True)\n",
    "\n",
    "        # --- 3. Aggregate Primary Spend and Revenue ---\n",
    "        print(\"Aggregating primary spend and revenue...\")\n",
    "        channel_summary = marketing_df.groupby('marketing_channel').agg(\n",
    "            total_ad_spend=('ad_spend', 'sum'),\n",
    "            total_revenue=('gross_discount_(shopify)', 'sum')\n",
    "        ).reset_index()\n",
    "\n",
    "        # --- 4. Merge and Calculate True Total Spend ---\n",
    "        print(\"Merging agency fees to calculate true total spend...\")\n",
    "        # Merge the agency fees back into our main summary table.\n",
    "        # We use a left merge to keep all channels from the main marketing file.\n",
    "        channel_summary = pd.merge(\n",
    "            channel_summary,\n",
    "            total_agency_fees,\n",
    "            left_on='marketing_channel',\n",
    "            right_on='mapping_key',\n",
    "            how='left'\n",
    "        )\n",
    "        \n",
    "        # Fill any channels without agency fees with 0 and calculate the true total spend.\n",
    "        channel_summary['agency_fees'] = channel_summary['agency_fees'].fillna(0)\n",
    "        channel_summary['true_total_ad_spend'] = channel_summary['total_ad_spend'] + channel_summary['agency_fees']\n",
    "\n",
    "        # --- 5. Calculate Corrected ROAS ---\n",
    "        print(\"Calculating corrected ROAS...\")\n",
    "        channel_summary['corrected_roas'] = channel_summary.apply(\n",
    "            lambda row: row['total_revenue'] / row['true_total_ad_spend'] if row['true_total_ad_spend'] > 0 else 0,\n",
    "            axis=1\n",
    "        )\n",
    "        \n",
    "        # Sort for better visualization\n",
    "        channel_summary = channel_summary.sort_values('corrected_roas', ascending=False).reset_index(drop=True)\n",
    "\n",
    "        print(\"\\n--- Corrected Channel Performance Summary (ROAS) ---\")\n",
    "        # Display the key columns for the final report\n",
    "        print(channel_summary[['marketing_channel', 'true_total_ad_spend', 'total_revenue', 'corrected_roas']])\n",
    "\n",
    "        # --- 6. Visualize the Corrected Results ---\n",
    "        print(\"\\nGenerating corrected visualization...\")\n",
    "        plt.style.use('seaborn-v0_8-whitegrid')\n",
    "        fig, ax = plt.subplots(figsize=(12, 8))\n",
    "        \n",
    "        roas_chart_data = channel_summary[channel_summary['true_total_ad_spend'] > 0]\n",
    "        \n",
    "        # Updated plotting call to address the FutureWarning\n",
    "        barplot = sns.barplot(x='corrected_roas', y='marketing_channel', data=roas_chart_data, palette='viridis', ax=ax, hue='marketing_channel', dodge=False)\n",
    "        ax.get_legend().remove() # Remove the legend created by hue\n",
    "\n",
    "        for p in barplot.patches:\n",
    "            width = p.get_width()\n",
    "            ax.text(width + 0.1, p.get_y() + p.get_height()/2., f'${width:.2f}', ha=\"left\", va=\"center\")\n",
    "\n",
    "        ax.set_title('Corrected Return on Ad Spend (ROAS) by Channel (incl. Agency Fees)', fontsize=16, weight='bold')\n",
    "        ax.set_xlabel('Corrected ROAS (Revenue / True Total Ad Spend)', fontsize=12)\n",
    "        ax.set_ylabel('Marketing Channel', fontsize=12)\n",
    "        ax.set_xlim(0, roas_chart_data['corrected_roas'].max() * 1.15)\n",
    "        \n",
    "        plt.tight_layout()\n",
    "        \n",
    "        plt.savefig('corrected_channel_roas_analysis.png')\n",
    "        print(\"\\n✅ Corrected analysis complete. Chart saved to 'corrected_channel_roas_analysis.png'\")\n",
    "\n",
    "    except FileNotFoundError as e:\n",
    "        print(f\"❌ ERROR: Could not find a required cleaned file: {e.filename}\")\n",
    "        print(\"Please ensure your 'cleaned_*.csv' or 'Cleaned_*.csv' files are in the same directory.\")\n",
    "    except Exception as e:\n",
    "        print(f\"An error occurred during analysis: {e}\")\n",
    "\n",
    "# --- Run the corrected analysis ---\n",
    "if __name__ == '__main__':\n",
    "    analyze_corrected_roas()\n"
   ]
  },
  {
   "cell_type": "code",
   "execution_count": 4,
   "id": "1b7dd32f-7131-4824-b6d9-39a9ba37d04c",
   "metadata": {},
   "outputs": [],
   "source": [
    "marketing_df = pd.read_csv(\"Cleaned_Marketing Channel Breakdown.csv\")"
   ]
  },
  {
   "cell_type": "code",
   "execution_count": 7,
   "id": "442ed20b-4917-4894-9e5f-4d22270d3f9f",
   "metadata": {},
   "outputs": [
    {
     "data": {
      "text/plain": [
       "year_period                  0\n",
       "marketing_channel            0\n",
       "ad_spend                     0\n",
       "gross_discount_(shopify)     0\n",
       "sessions                     0\n",
       "ctr                         13\n",
       "clicks                       3\n",
       "conversion_rate              1\n",
       "orders                       0\n",
       "new_customers                0\n",
       "year                         0\n",
       "dtype: int64"
      ]
     },
     "execution_count": 7,
     "metadata": {},
     "output_type": "execute_result"
    }
   ],
   "source": [
    "marketing_df.isna().sum()"
   ]
  },
  {
   "cell_type": "markdown",
   "id": "99624270-5674-4687-96d9-7b2ce7dfc073",
   "metadata": {},
   "source": []
  }
 ],
 "metadata": {
  "kernelspec": {
   "display_name": "Python (DTC Analytics)",
   "language": "python",
   "name": "dtc_env"
  },
  "language_info": {
   "codemirror_mode": {
    "name": "ipython",
    "version": 3
   },
   "file_extension": ".py",
   "mimetype": "text/x-python",
   "name": "python",
   "nbconvert_exporter": "python",
   "pygments_lexer": "ipython3",
   "version": "3.10.0"
  }
 },
 "nbformat": 4,
 "nbformat_minor": 5
}
